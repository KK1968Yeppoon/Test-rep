{
 "cells": [
  {
   "cell_type": "markdown",
   "id": "1bd8cd27",
   "metadata": {},
   "source": [
    "# My Jupyter Notebook on IBM Watson Studio"
   ]
  },
  {
   "cell_type": "markdown",
   "id": "4c5735cb",
   "metadata": {},
   "source": [
    "## **Larissa Dimitrios**\n",
    "### Pharmacist"
   ]
  },
  {
   "cell_type": "markdown",
   "id": "d7ee1424",
   "metadata": {},
   "source": [
    "*I want to explore new career opportunities, and I believe Data Science will facilitate this*"
   ]
  },
  {
   "cell_type": "markdown",
   "id": "1d91e5ca",
   "metadata": {},
   "source": [
    "### The code below gives the sum of three variables"
   ]
  },
  {
   "cell_type": "code",
   "execution_count": 1,
   "id": "e42fa83d",
   "metadata": {},
   "outputs": [
    {
     "name": "stdout",
     "output_type": "stream",
     "text": [
      "6\n"
     ]
    }
   ],
   "source": [
    "a = 1\n",
    "b = 2\n",
    "c = 3\n",
    "print(a + b + c)"
   ]
  },
  {
   "cell_type": "markdown",
   "id": "a182d61c",
   "metadata": {},
   "source": [
    "`This is highlighted text`\n",
    "***\n",
    "This is text within horizontal lines\n",
    "***\n",
    "I am studying through Coursera at <a\n",
    "href=\"http://coursera.org\"\n",
    "target=\"_blank\">this link</a>"
   ]
  },
  {
   "cell_type": "code",
   "execution_count": null,
   "id": "d9bc63b3",
   "metadata": {},
   "outputs": [],
   "source": []
  }
 ],
 "metadata": {
  "kernelspec": {
   "display_name": "Python 3 (ipykernel)",
   "language": "python",
   "name": "python3"
  },
  "language_info": {
   "codemirror_mode": {
    "name": "ipython",
    "version": 3
   },
   "file_extension": ".py",
   "mimetype": "text/x-python",
   "name": "python",
   "nbconvert_exporter": "python",
   "pygments_lexer": "ipython3",
   "version": "3.9.8"
  }
 },
 "nbformat": 4,
 "nbformat_minor": 5
}
