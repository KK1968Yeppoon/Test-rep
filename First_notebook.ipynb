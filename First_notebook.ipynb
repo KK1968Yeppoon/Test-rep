{
 "cells": [
  {
   "cell_type": "code",
   "execution_count": 1,
   "id": "d9988d61-7a68-4ef4-be04-8e3712d1aafb",
   "metadata": {},
   "outputs": [
    {
     "name": "stdout",
     "output_type": "stream",
     "text": [
      "Hello World!\n"
     ]
    }
   ],
   "source": [
    "print(\"Hello World!\")"
   ]
  },
  {
   "cell_type": "code",
   "execution_count": 2,
   "id": "3a4ca421-f6f0-4d39-9382-66646fa85693",
   "metadata": {},
   "outputs": [
    {
     "data": {
      "text/plain": [
       "2"
      ]
     },
     "execution_count": 2,
     "metadata": {},
     "output_type": "execute_result"
    }
   ],
   "source": [
    "1 + 1"
   ]
  },
  {
   "cell_type": "code",
   "execution_count": 3,
   "id": "e7f3cbec-5baa-4577-a03c-c561b448484e",
   "metadata": {},
   "outputs": [
    {
     "name": "stdout",
     "output_type": "stream",
     "text": [
      "3\n"
     ]
    }
   ],
   "source": [
    "a = 1\n",
    "b = 2\n",
    "print(a + b)"
   ]
  },
  {
   "cell_type": "markdown",
   "id": "e39fcb4b-5ea6-4ce5-b674-a822e7d641aa",
   "metadata": {},
   "source": [
    "Test markdown"
   ]
  },
  {
   "cell_type": "markdown",
   "id": "c94f06af-5017-476e-b861-eaf019f4aa07",
   "metadata": {},
   "source": [
    "# Header"
   ]
  },
  {
   "cell_type": "markdown",
   "id": "31d5efde-94a4-468a-bf4c-80bf1089f165",
   "metadata": {},
   "source": []
  },
  {
   "cell_type": "markdown",
   "id": "eb62dec8-c899-4dde-a6ce-053770d7bc7d",
   "metadata": {},
   "source": [
    "## Header "
   ]
  },
  {
   "cell_type": "markdown",
   "id": "bb2ee34a-7b90-4dea-bcc3-67647f91160a",
   "metadata": {},
   "source": [
    "### Header"
   ]
  },
  {
   "cell_type": "markdown",
   "id": "f9cfc40a-e126-4434-94df-e474d9601336",
   "metadata": {},
   "source": [
    "*Test"
   ]
  },
  {
   "cell_type": "markdown",
   "id": "70552720-a469-4821-8c4c-a76c9d7b2d46",
   "metadata": {},
   "source": [
    "**Test"
   ]
  },
  {
   "cell_type": "code",
   "execution_count": null,
   "id": "fb64f252-e9e2-45a2-b5c6-439dd277c103",
   "metadata": {},
   "outputs": [],
   "source": []
  }
 ],
 "metadata": {
  "kernelspec": {
   "display_name": "Python",
   "language": "python",
   "name": "conda-env-python-py"
  },
  "language_info": {
   "codemirror_mode": {
    "name": "ipython",
    "version": 3
   },
   "file_extension": ".py",
   "mimetype": "text/x-python",
   "name": "python",
   "nbconvert_exporter": "python",
   "pygments_lexer": "ipython3",
   "version": "3.7.10"
  }
 },
 "nbformat": 4,
 "nbformat_minor": 5
}
